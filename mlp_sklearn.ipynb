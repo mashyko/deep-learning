{
  "nbformat": 4,
  "nbformat_minor": 0,
  "metadata": {
    "kernelspec": {
      "display_name": "Python 3",
      "language": "python",
      "name": "python3"
    },
    "language_info": {
      "codemirror_mode": {
        "name": "ipython",
        "version": 3
      },
      "file_extension": ".py",
      "mimetype": "text/x-python",
      "name": "python",
      "nbconvert_exporter": "python",
      "pygments_lexer": "ipython3",
      "version": "3.7.4"
    },
    "colab": {
      "name": "mlp_sklearn.ipynb",
      "provenance": [],
      "collapsed_sections": [],
      "include_colab_link": true
    }
  },
  "cells": [
    {
      "cell_type": "markdown",
      "metadata": {
        "id": "view-in-github",
        "colab_type": "text"
      },
      "source": [
        "<a href=\"https://colab.research.google.com/github/mashyko/deep-learning/blob/master/mlp_sklearn.ipynb\" target=\"_parent\"><img src=\"https://colab.research.google.com/assets/colab-badge.svg\" alt=\"Open In Colab\"/></a>"
      ]
    },
    {
      "cell_type": "markdown",
      "metadata": {
        "id": "AY9HWjNafmVE",
        "colab_type": "text"
      },
      "source": [
        "Scikit-Learnを用いた、Iris データの分類問題\n",
        "\n",
        "　　sklearnにはirsi.dataを読めこむことができるモジュールがあります\n"
      ]
    },
    {
      "cell_type": "code",
      "metadata": {
        "id": "ljOfo-atfiFU",
        "colab_type": "code",
        "outputId": "b44aa8f2-a22a-4a5c-aa37-f38d038c3f73",
        "colab": {
          "base_uri": "https://localhost:8080/",
          "height": 68
        }
      },
      "source": [
        "from sklearn import datasets\n",
        "import numpy as np\n",
        "from sklearn.neural_network import MLPClassifier\n",
        "\n",
        "iris = datasets.load_iris()\n",
        "X = iris.data[:, [2, 3]]\n",
        "y = iris.target\n",
        "\n",
        "mlp = MLPClassifier(hidden_layer_sizes=(100, ), max_iter=100000, tol=0.0001, random_state=1)\n",
        "#clf = MLPClassifier(hidden_layer_sizes=(100, ), max_iter=10000, tol=0.00001, random_state=None)\n",
        "\n",
        "mlp.fit(X, y)\n",
        "\n",
        "y_pred = mlp.predict(X)\n",
        "\n",
        "from sklearn.metrics import accuracy_score\n",
        "\n",
        "print('Class labels:', np.unique(y))\n",
        "print('Misclassified samples: %d' % (y != y_pred).sum())\n",
        "print('Accuracy: %.2f' % accuracy_score(y, y_pred))\n"
      ],
      "execution_count": 1,
      "outputs": [
        {
          "output_type": "stream",
          "text": [
            "Class labels: [0 1 2]\n",
            "Misclassified samples: 7\n",
            "Accuracy: 0.95\n"
          ],
          "name": "stdout"
        }
      ]
    },
    {
      "cell_type": "code",
      "metadata": {
        "id": "FbygmfMxfiFc",
        "colab_type": "code",
        "outputId": "f1c0f62b-c302-4b0d-b053-b2e03a613134",
        "colab": {
          "base_uri": "https://localhost:8080/",
          "height": 68
        }
      },
      "source": [
        "from sklearn import datasets\n",
        "import numpy as np\n",
        "from sklearn.neural_network import MLPClassifier\n",
        "\n",
        "iris = datasets.load_iris()\n",
        "X = iris.data\n",
        "y = iris.target\n",
        "\n",
        "mlp = MLPClassifier(hidden_layer_sizes=(100, ), max_iter=50000, tol=0.00001, random_state=1)\n",
        "#mlp = MLPClassifier(hidden_layer_sizes=(100, ), max_iter=10000, tol=0.00001, random_state=None)\n",
        "\n",
        "mlp.fit(X, y)\n",
        "\n",
        "y_pred = mlp.predict(X)\n",
        "\n",
        "from sklearn.metrics import accuracy_score\n",
        "\n",
        "print('Class labels:', np.unique(y))\n",
        "print('Misclassified samples: %d' % (y != y_pred).sum())\n",
        "print('Accuracy: %.2f' % accuracy_score(y, y_pred))\n",
        "\n"
      ],
      "execution_count": 2,
      "outputs": [
        {
          "output_type": "stream",
          "text": [
            "Class labels: [0 1 2]\n",
            "Misclassified samples: 2\n",
            "Accuracy: 0.99\n"
          ],
          "name": "stdout"
        }
      ]
    },
    {
      "cell_type": "markdown",
      "metadata": {
        "id": "uy8Y8VXNfiFf",
        "colab_type": "text"
      },
      "source": [
        "MNIST Data-set with MLP"
      ]
    },
    {
      "cell_type": "code",
      "metadata": {
        "id": "jKGgPsSofiFg",
        "colab_type": "code",
        "outputId": "9839c235-22b6-4113-f935-b2d8b1938cd3",
        "colab": {
          "base_uri": "https://localhost:8080/",
          "height": 51
        }
      },
      "source": [
        "from sklearn import datasets\n",
        "import numpy as np\n",
        "from sklearn.neural_network import MLPClassifier\n",
        "\n",
        "\n",
        "digits = datasets.load_digits()\n",
        "\n",
        "X = digits.data\n",
        "y = digits.target\n",
        "\n",
        "mlp = MLPClassifier(hidden_layer_sizes=(100, ), max_iter=50000, tol=0.00001, random_state=1)\n",
        "#mlp = MLPClassifier(hidden_layer_sizes=(100, ), max_iter=10000, tol=0.00001, random_state=None)\n",
        "\n",
        "mlp.fit(X, y)\n",
        "\n",
        "y_pred = mlp.predict(X)\n",
        "\n",
        "from sklearn.metrics import accuracy_score\n",
        "\n",
        "#print('Class labels:', np.unique(y))\n",
        "print('Misclassified samples: %d' % (y != y_pred).sum())\n",
        "print('Accuracy: %.2f' % accuracy_score(y, y_pred))\n",
        "\n"
      ],
      "execution_count": 3,
      "outputs": [
        {
          "output_type": "stream",
          "text": [
            "Misclassified samples: 0\n",
            "Accuracy: 1.00\n"
          ],
          "name": "stdout"
        }
      ]
    },
    {
      "cell_type": "code",
      "metadata": {
        "id": "VlmF8LOnfiFj",
        "colab_type": "code",
        "colab": {}
      },
      "source": [
        ""
      ],
      "execution_count": 0,
      "outputs": []
    }
  ]
}