{
  "nbformat": 4,
  "nbformat_minor": 0,
  "metadata": {
    "colab": {
      "name": "Deep_Learning_MLP.ipynb",
      "provenance": [],
      "collapsed_sections": [],
      "include_colab_link": true
    },
    "kernelspec": {
      "name": "python3",
      "display_name": "Python 3"
    }
  },
  "cells": [
    {
      "cell_type": "markdown",
      "metadata": {
        "id": "view-in-github",
        "colab_type": "text"
      },
      "source": [
        "<a href=\"https://colab.research.google.com/github/mashyko/deep-learning/blob/master/Deep_Learning_MLP.ipynb\" target=\"_parent\"><img src=\"https://colab.research.google.com/assets/colab-badge.svg\" alt=\"Open In Colab\"/></a>"
      ]
    },
    {
      "cell_type": "markdown",
      "metadata": {
        "id": "e5-_pBwbn1bP",
        "colab_type": "text"
      },
      "source": [
        "ニューラルネットワークの基礎理論\n"
      ]
    },
    {
      "cell_type": "markdown",
      "metadata": {
        "id": "_Pq6oYwB5mu2",
        "colab_type": "text"
      },
      "source": [
        "\n",
        "OR Gateの例"
      ]
    },
    {
      "cell_type": "code",
      "metadata": {
        "id": "yNeGMIzB4bEU",
        "colab_type": "code",
        "outputId": "674c27b9-d5db-4138-9eff-eebe16811ac2",
        "colab": {
          "base_uri": "https://localhost:8080/",
          "height": 85
        }
      },
      "source": [
        "#coding: utf-8\n",
        "# OR_gate.py\n",
        "import numpy as np\n",
        "\n",
        "def OR(x1, x2):\n",
        "    x = np.array([x1, x2])\n",
        "    w = np.array([1.0, 1.0])\n",
        "    theta = 0.5\n",
        "    s = np.sum(w*x) - theta\n",
        "    if s <= 0:\n",
        "        return 0\n",
        "    else:\n",
        "        return 1\n",
        "\n",
        "if __name__ == '__main__':\n",
        "    for xs in [(0, 0), (1, 0), (0, 1), (1, 1)]:\n",
        "        y = OR(xs[0], xs[1])\n",
        "        print(str(xs) + \" -> \" + str(y))"
      ],
      "execution_count": 0,
      "outputs": [
        {
          "output_type": "stream",
          "text": [
            "(0, 0) -> 0\n",
            "(1, 0) -> 1\n",
            "(0, 1) -> 1\n",
            "(1, 1) -> 1\n"
          ],
          "name": "stdout"
        }
      ]
    },
    {
      "cell_type": "markdown",
      "metadata": {
        "id": "c61_0Knx5uc0",
        "colab_type": "text"
      },
      "source": [
        "AND Gateの例\n"
      ]
    },
    {
      "cell_type": "code",
      "metadata": {
        "id": "rOdN6PZ34vMz",
        "colab_type": "code",
        "outputId": "074024d8-eadc-44e4-c078-e30f23dde18c",
        "colab": {
          "base_uri": "https://localhost:8080/",
          "height": 85
        }
      },
      "source": [
        "# coding: utf-8\n",
        "# AND_gate.py\n",
        "\n",
        "import numpy as np\n",
        "\n",
        "def AND(x1, x2):\n",
        "    x = np.array([x1, x2])\n",
        "    w = np.array([0.5, 0.5])\n",
        "    theta = 0.5\n",
        "    s = np.sum(w*x) - theta\n",
        "    if s <= 0:\n",
        "        return 0\n",
        "    else:\n",
        "        return 1\n",
        "\n",
        "if __name__ == '__main__':\n",
        "    for xs in [(0, 0), (1, 0), (0, 1), (1, 1)]:\n",
        "        y = AND(xs[0], xs[1])\n",
        "        print(str(xs) + \" -> \" + str(y))"
      ],
      "execution_count": 0,
      "outputs": [
        {
          "output_type": "stream",
          "text": [
            "(0, 0) -> 0\n",
            "(1, 0) -> 0\n",
            "(0, 1) -> 0\n",
            "(1, 1) -> 1\n"
          ],
          "name": "stdout"
        }
      ]
    },
    {
      "cell_type": "markdown",
      "metadata": {
        "id": "D1bVpxTE5zWm",
        "colab_type": "text"
      },
      "source": [
        "NAND Gate　の例\n"
      ]
    },
    {
      "cell_type": "code",
      "metadata": {
        "id": "lvhB4xOw43He",
        "colab_type": "code",
        "outputId": "54d13f13-6899-4452-cf61-2d08ea3a9bfd",
        "colab": {
          "base_uri": "https://localhost:8080/",
          "height": 85
        }
      },
      "source": [
        "#coding: utf-8\n",
        "# NAND_gate.py\n",
        "\n",
        "import numpy as np\n",
        "\n",
        "def NAND(x1, x2):\n",
        "    x = np.array([x1, x2])\n",
        "    w = np.array([-0.5, -0.5])\n",
        "    theta = -1.0\n",
        "    s = np.sum(w*x) - theta\n",
        "    if s <= 0:\n",
        "        return 0\n",
        "    else:\n",
        "        return 1\n",
        "\n",
        "if __name__ == '__main__':\n",
        "    for xs in [(0, 0), (1, 0), (0, 1), (1, 1)]:\n",
        "        y = NAND(xs[0], xs[1])\n",
        "        print(str(xs) + \" -> \" + str(y))"
      ],
      "execution_count": 0,
      "outputs": [
        {
          "output_type": "stream",
          "text": [
            "(0, 0) -> 1\n",
            "(1, 0) -> 1\n",
            "(0, 1) -> 1\n",
            "(1, 1) -> 0\n"
          ],
          "name": "stdout"
        }
      ]
    },
    {
      "cell_type": "markdown",
      "metadata": {
        "id": "3VRs4MG-s7-Z",
        "colab_type": "text"
      },
      "source": [
        "XOR Gateの例"
      ]
    },
    {
      "cell_type": "code",
      "metadata": {
        "id": "OqCjbi6urPay",
        "colab_type": "code",
        "outputId": "0a7584c1-1005-4732-daa1-2189acc63823",
        "colab": {
          "base_uri": "https://localhost:8080/",
          "height": 85
        }
      },
      "source": [
        "# coding: utf-8\n",
        "# XOR_gate.py\n",
        "\n",
        "import numpy as np\n",
        "\n",
        "def AND(x1, x2):\n",
        "    x = np.array([x1, x2])\n",
        "    w = np.array([0.5, 0.5])\n",
        "    theta = 0.5\n",
        "    s = np.sum(w*x) - theta\n",
        "    if s <= 0:\n",
        "        return 0\n",
        "    else:\n",
        "        return 1\n",
        "\n",
        "def OR(x1, x2):\n",
        "    x = np.array([x1, x2])\n",
        "    w = np.array([1.0, 1.0])\n",
        "    theta = 0.5\n",
        "    s = np.sum(w*x) - theta\n",
        "    if s <= 0:\n",
        "        return 0\n",
        "    else:\n",
        "        return 1\n",
        "\n",
        "def NAND(x1, x2):\n",
        "    x = np.array([x1, x2])\n",
        "    w = np.array([-0.5, -0.5])\n",
        "    theta = -1.0\n",
        "    s = np.sum(w*x) - theta\n",
        "    if s <= 0:\n",
        "        return 0\n",
        "    else:\n",
        "        return 1\n",
        "\n",
        "\n",
        "def XOR(x1, x2):\n",
        "    s1 = NAND(x1, x2)\n",
        "    s2 = OR(x1, x2)\n",
        "    y = AND(s1, s2)\n",
        "    return y\n",
        "\n",
        "if __name__ == '__main__':\n",
        "    for xs in [(0, 0), (1, 0), (0, 1), (1, 1)]:\n",
        "        y = XOR(xs[0], xs[1])\n",
        "        print(str(xs) + \" -> \" + str(y))"
      ],
      "execution_count": 0,
      "outputs": [
        {
          "output_type": "stream",
          "text": [
            "(0, 0) -> 0\n",
            "(1, 0) -> 1\n",
            "(0, 1) -> 1\n",
            "(1, 1) -> 0\n"
          ],
          "name": "stdout"
        }
      ]
    },
    {
      "cell_type": "markdown",
      "metadata": {
        "id": "OzrrcnJa53xv",
        "colab_type": "text"
      },
      "source": [
        "簡単なニューラルネットワークの例\n",
        "\n",
        "　入力信号は(1.0, 1.0)です。\n"
      ]
    },
    {
      "cell_type": "code",
      "metadata": {
        "id": "XqiYdEMD4-WT",
        "colab_type": "code",
        "outputId": "96058df7-58c5-4e74-ea41-4b5169c56b2e",
        "colab": {
          "base_uri": "https://localhost:8080/",
          "height": 34
        }
      },
      "source": [
        "import numpy as np\n",
        "\n",
        "def softmax(x):  \n",
        "    exp_a = np.exp(x)\n",
        "    sum_exp_a = np.sum(exp_a)\n",
        "    y=exp_a/sum_exp_a\n",
        "    return y\n",
        "\t\n",
        "def sigmoid(x):\n",
        "    return 1 / (1 + np.exp(-x)) \n",
        "\t\n",
        "def init_network():\n",
        "\tinit_net = {}\n",
        "\tinit_net['W1']=np.array([[0.1,0.3,0.5],[0.2, 0.4, 0.6]])\n",
        "\tinit_net['W2']=np.array([[0.1, 0.4], [0.2, 0.5,], [0.3, 0.6]])\n",
        "\tinit_net['W3']=np.array([[0.1,0.3], [0.2, 0.4]])\n",
        "\n",
        "\tinit_net['b1']=np.array([0.1, 0.2, 0.3])\n",
        "\tinit_net['b2']=np.array([0.1, 0.2])\n",
        "\tinit_net['b3']=np.array([0.1, 0.2])\n",
        "\treturn init_net\n",
        "\n",
        "def ppn(init_net, x):\n",
        "    w1, w2, w3 = init_net['W1'], init_net['W2'], init_net['W3']\n",
        "    b1, b2, b3 = init_net['b1'], init_net['b2'], init_net['b3']\n",
        "\n",
        "    z1 = np.dot(x, w1) + b1\n",
        "    a1 = sigmoid(z1)\n",
        "    z2 = np.dot(z1, w2) + b2\n",
        "    a2 = sigmoid(z2)\n",
        "    z3 = np.dot(z2, w3) + b3\n",
        "    y = softmax(z3)\n",
        "\n",
        "    return y\n",
        "\n",
        "init_net = init_network()\n",
        "x=np.array([1.0,1.0])\n",
        "y=ppn(init_net, x)\n",
        "print(y)\n"
      ],
      "execution_count": 0,
      "outputs": [
        {
          "output_type": "stream",
          "text": [
            "[0.35939292 0.64060708]\n"
          ],
          "name": "stdout"
        }
      ]
    }
  ]
}