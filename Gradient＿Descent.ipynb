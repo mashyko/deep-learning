{
  "nbformat": 4,
  "nbformat_minor": 0,
  "metadata": {
    "colab": {
      "name": " Gradient＿Descent.ipynb",
      "provenance": [],
      "collapsed_sections": [],
      "include_colab_link": true
    },
    "kernelspec": {
      "name": "python3",
      "display_name": "Python 3"
    }
  },
  "cells": [
    {
      "cell_type": "markdown",
      "metadata": {
        "id": "view-in-github",
        "colab_type": "text"
      },
      "source": [
        "<a href=\"https://colab.research.google.com/github/mashyko/deep-learning/blob/master/Gradient%EF%BC%BFDescent.ipynb\" target=\"_parent\"><img src=\"https://colab.research.google.com/assets/colab-badge.svg\" alt=\"Open In Colab\"/></a>"
      ]
    },
    {
      "cell_type": "markdown",
      "metadata": {
        "id": "kIBLRmiI5i16",
        "colab_type": "text"
      },
      "source": [
        "勾配降下法の例\n"
      ]
    },
    {
      "cell_type": "markdown",
      "metadata": {
        "id": "Nb-XJmGhHPwv",
        "colab_type": "text"
      },
      "source": [
        "２変数\\( x_1, x_2 \\)の関数\\( f \\)が\n",
        "\\[\n",
        "f(x_1, x_2) = (x_1 - 1)^2 + (x_2 - 2)^2\n",
        "\\]\n",
        "であるとします。このとき、明らかに、この関数の最小値は 0 で、この最小値を取る座標（最小化点）は\n",
        "\\[\n",
        "(x_1, x_2) = (1, 2)\n",
        "\\]\n",
        "であることがわかります。\n"
      ]
    },
    {
      "cell_type": "code",
      "metadata": {
        "id": "YtWi-aDU5MkA",
        "colab_type": "code",
        "outputId": "07cb5da8-5a6b-444b-a89e-dfa0cc41549f",
        "colab": {
          "base_uri": "https://localhost:8080/",
          "height": 279
        }
      },
      "source": [
        "import numpy as np\n",
        "import matplotlib.pylab as plt\n",
        "\n",
        "def numerical_gradient(f, x):\n",
        "    h = 1e-4 # 0.0001\n",
        "    grad = np.zeros_like(x)\n",
        "    \n",
        "    for idx in range(x.size):\n",
        "        tmp_val = x[idx]\n",
        "        x[idx] = tmp_val + h\n",
        "        fx1 = f(x) \n",
        "        \n",
        "        x[idx] = tmp_val - h \n",
        "        fx2 = f(x) \n",
        "        grad[idx] = (fx1 - fx2) / (2*h)\n",
        "        \n",
        "        \n",
        "    return grad\n",
        "\n",
        "\n",
        "def gradient_descent(f, init_x, eta=0.01, ite_num=100):\n",
        "    x = init_x\n",
        "    x_history = []\n",
        "\n",
        "    for i in range(ite_num):\n",
        "        x_history.append( x.copy() )\n",
        "\n",
        "        grad = numerical_gradient(f, x)\n",
        "        x -= eta * grad\n",
        "\n",
        "    return x, np.array(x_history)\n",
        "\n",
        "\n",
        "def function_2(x):\n",
        "    return (x[0] - 1)**2 + (x[1] - 2)**2\n",
        "\n",
        "init_x = np.array([0.0, 0.0])    \n",
        "\n",
        "eta = 0.1\n",
        "ite_num = 20\n",
        "x, x_history = gradient_descent(function_2, init_x, eta, ite_num)\n",
        "\n",
        "plt.plot( [-5, 5], [2,2], '--b')\n",
        "plt.plot( [1,1], [-5, 5], '--b')\n",
        "plt.plot(x_history[:,0], x_history[:,1], 'o')\n",
        "\n",
        "plt.xlim(-3.5, 3.5)\n",
        "plt.ylim(-4.5, 4.5)\n",
        "plt.xlabel(\"X0\")\n",
        "plt.ylabel(\"X1\")\n",
        "plt.show()\n"
      ],
      "execution_count": 0,
      "outputs": [
        {
          "output_type": "display_data",
          "data": {
            "image/png": "[encoded data removed]",
            "text/plain": [
              "<Figure size 432x288 with 1 Axes>"
            ]
          },
          "metadata": {
            "tags": []
          }
        }
      ]
    }
  ]
}