{
  "nbformat": 4,
  "nbformat_minor": 0,
  "metadata": {
    "colab": {
      "name": "MNIST_keras.ipynb",
      "provenance": [],
      "collapsed_sections": [],
      "include_colab_link": true
    },
    "kernelspec": {
      "name": "python3",
      "display_name": "Python 3"
    },
    "accelerator": "GPU"
  },
  "cells": [
    {
      "cell_type": "markdown",
      "metadata": {
        "id": "view-in-github",
        "colab_type": "text"
      },
      "source": [
        "<a href=\"https://colab.research.google.com/github/mashyko/deep-learning/blob/master/MNIST_keras.ipynb\" target=\"_parent\"><img src=\"https://colab.research.google.com/assets/colab-badge.svg\" alt=\"Open In Colab\"/></a>"
      ]
    },
    {
      "cell_type": "markdown",
      "metadata": {
        "id": "pHi5UfdJKRF6",
        "colab_type": "text"
      },
      "source": [
        "Kerasを用いたMNISTデータの手書き数字の識別\n",
        "\n",
        "　　Tensorflow 2.0で実行します：tensorflow.kerasを採用\n"
      ]
    },
    {
      "cell_type": "code",
      "metadata": {
        "colab_type": "code",
        "id": "NeWVBhf1VxlH",
        "outputId": "e4a5dcb1-4bd9-4345-aeac-b255977547c8",
        "colab": {
          "base_uri": "https://localhost:8080/",
          "height": 34
        }
      },
      "source": [
        "%tensorflow_version 2.x"
      ],
      "execution_count": 1,
      "outputs": [
        {
          "output_type": "stream",
          "text": [
            "TensorFlow 2.x selected.\n"
          ],
          "name": "stdout"
        }
      ]
    },
    {
      "cell_type": "code",
      "metadata": {
        "id": "fmcxtSudrUo7",
        "colab_type": "code",
        "outputId": "780d6751-07bb-4a23-afb6-143eb62014bb",
        "colab": {
          "base_uri": "https://localhost:8080/",
          "height": 34
        }
      },
      "source": [
        "import tensorflow as tf\n",
        "tf.test.gpu_device_name()"
      ],
      "execution_count": 2,
      "outputs": [
        {
          "output_type": "execute_result",
          "data": {
            "text/plain": [
              "'/device:GPU:0'"
            ]
          },
          "metadata": {
            "tags": []
          },
          "execution_count": 2
        }
      ]
    },
    {
      "cell_type": "code",
      "metadata": {
        "id": "zE98FYn7f4IN",
        "colab_type": "code",
        "outputId": "df9f72a1-17d6-4251-ad2d-0755669bfa26",
        "colab": {
          "base_uri": "https://localhost:8080/",
          "height": 510
        }
      },
      "source": [
        "from tensorflow.keras.datasets import mnist\n",
        "from tensorflow.keras.models import Sequential\n",
        "from tensorflow.keras.layers import Dense, Dropout, Flatten\n",
        "from tensorflow.keras.layers import Conv2D, MaxPooling2D\n",
        "import keras\n",
        "#from keras import backend as K\n",
        "\n",
        "batch_size = 128\n",
        "num_classes = 10\n",
        "epochs = 12\n",
        "\n",
        "img_rows, img_cols = 28, 28\n",
        "\n",
        "(x_train, y_train), (x_test, y_test) = mnist.load_data()\n",
        "\n",
        "x_train = x_train.reshape(x_train.shape[0], img_rows, img_cols, 1)\n",
        "x_test = x_test.reshape(x_test.shape[0], img_rows, img_cols, 1)\n",
        "input_shape = (img_rows, img_cols, 1)\n",
        "\n",
        "x_train = x_train.astype('float32')\n",
        "x_test = x_test.astype('float32')\n",
        "x_train /= 255\n",
        "x_test /= 255\n",
        "print('x_train shape:', x_train.shape)\n",
        "print(x_train.shape[0], 'train samples')\n",
        "print(x_test.shape[0], 'test samples')\n",
        "\n",
        "y_train = y_train.astype('int32')\n",
        "y_test = y_test.astype('int32')\n",
        "y_train = keras.utils.np_utils.to_categorical(y_train, num_classes)\n",
        "y_test =  keras.utils.np_utils.to_categorical(y_test, num_classes)\n",
        "\n",
        "model = Sequential()\n",
        "model.add(Conv2D(32, kernel_size=(3, 3),\n",
        "                 activation='relu',\n",
        "                 input_shape=input_shape))\n",
        "model.add(Conv2D(64, (3, 3), activation='relu'))\n",
        "model.add(MaxPooling2D(pool_size=(2, 2)))\n",
        "model.add(Dropout(0.25))\n",
        "model.add(Flatten())\n",
        "model.add(Dense(128, activation='relu'))\n",
        "model.add(Dropout(0.5))\n",
        "model.add(Dense(num_classes, activation='softmax'))\n",
        "\n",
        "model.compile(loss='binary_crossentropy',\n",
        "              optimizer='adam',\n",
        "              metrics=['accuracy'])\n",
        "\n",
        "history=model.fit(x_train, y_train, batch_size=batch_size, epochs=epochs,\n",
        "          verbose=1, validation_data=(x_test, y_test))"
      ],
      "execution_count": 3,
      "outputs": [
        {
          "output_type": "stream",
          "text": [
            "Using TensorFlow backend.\n"
          ],
          "name": "stderr"
        },
        {
          "output_type": "stream",
          "text": [
            "x_train shape: (60000, 28, 28, 1)\n",
            "60000 train samples\n",
            "10000 test samples\n",
            "Train on 60000 samples, validate on 10000 samples\n",
            "Epoch 1/12\n",
            "60000/60000 [==============================] - 6s 94us/sample - loss: 0.0404 - accuracy: 0.9862 - val_loss: 0.0095 - val_accuracy: 0.9967\n",
            "Epoch 2/12\n",
            "60000/60000 [==============================] - 3s 54us/sample - loss: 0.0158 - accuracy: 0.9948 - val_loss: 0.0076 - val_accuracy: 0.9972\n",
            "Epoch 3/12\n",
            "60000/60000 [==============================] - 3s 53us/sample - loss: 0.0116 - accuracy: 0.9963 - val_loss: 0.0062 - val_accuracy: 0.9979\n",
            "Epoch 4/12\n",
            "60000/60000 [==============================] - 3s 54us/sample - loss: 0.0095 - accuracy: 0.9968 - val_loss: 0.0057 - val_accuracy: 0.9982\n",
            "Epoch 5/12\n",
            "60000/60000 [==============================] - 3s 53us/sample - loss: 0.0082 - accuracy: 0.9972 - val_loss: 0.0049 - val_accuracy: 0.9984\n",
            "Epoch 6/12\n",
            "60000/60000 [==============================] - 3s 53us/sample - loss: 0.0072 - accuracy: 0.9976 - val_loss: 0.0049 - val_accuracy: 0.9982\n",
            "Epoch 7/12\n",
            "60000/60000 [==============================] - 3s 53us/sample - loss: 0.0064 - accuracy: 0.9979 - val_loss: 0.0049 - val_accuracy: 0.9983\n",
            "Epoch 8/12\n",
            "60000/60000 [==============================] - 3s 53us/sample - loss: 0.0058 - accuracy: 0.9980 - val_loss: 0.0053 - val_accuracy: 0.9984\n",
            "Epoch 9/12\n",
            "60000/60000 [==============================] - 3s 54us/sample - loss: 0.0053 - accuracy: 0.9981 - val_loss: 0.0050 - val_accuracy: 0.9984\n",
            "Epoch 10/12\n",
            "60000/60000 [==============================] - 3s 53us/sample - loss: 0.0051 - accuracy: 0.9983 - val_loss: 0.0052 - val_accuracy: 0.9984\n",
            "Epoch 11/12\n",
            "60000/60000 [==============================] - 3s 54us/sample - loss: 0.0044 - accuracy: 0.9985 - val_loss: 0.0051 - val_accuracy: 0.9984\n",
            "Epoch 12/12\n",
            "60000/60000 [==============================] - 3s 54us/sample - loss: 0.0042 - accuracy: 0.9985 - val_loss: 0.0053 - val_accuracy: 0.9984\n"
          ],
          "name": "stdout"
        }
      ]
    }
  ]
}
